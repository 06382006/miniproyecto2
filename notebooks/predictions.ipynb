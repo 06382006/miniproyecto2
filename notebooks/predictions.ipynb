{
 "cells": [
  {
   "cell_type": "code",
   "execution_count": 53,
   "metadata": {},
   "outputs": [],
   "source": [
    "import pandas as pd\n",
    "import pickle \n",
    "from sklearn.metrics import accuracy_score\n"
   ]
  },
  {
   "cell_type": "code",
   "execution_count": 44,
   "metadata": {},
   "outputs": [
    {
     "data": {
      "text/html": [
       "<div>\n",
       "<style scoped>\n",
       "    .dataframe tbody tr th:only-of-type {\n",
       "        vertical-align: middle;\n",
       "    }\n",
       "\n",
       "    .dataframe tbody tr th {\n",
       "        vertical-align: top;\n",
       "    }\n",
       "\n",
       "    .dataframe thead th {\n",
       "        text-align: right;\n",
       "    }\n",
       "</style>\n",
       "<table border=\"1\" class=\"dataframe\">\n",
       "  <thead>\n",
       "    <tr style=\"text-align: right;\">\n",
       "      <th></th>\n",
       "      <th>ID</th>\n",
       "      <th>Prct_uso_tc</th>\n",
       "      <th>Edad</th>\n",
       "      <th>Nro_prestao_retrasados</th>\n",
       "      <th>Prct_deuda_vs_ingresos</th>\n",
       "      <th>Mto_ingreso_mensual</th>\n",
       "      <th>Nro_prod_financieros_deuda</th>\n",
       "      <th>Nro_retraso_60dias</th>\n",
       "      <th>Nro_creditos_hipotecarios</th>\n",
       "      <th>Nro_retraso_ultm3anios</th>\n",
       "      <th>Nro_dependiente</th>\n",
       "    </tr>\n",
       "  </thead>\n",
       "  <tbody>\n",
       "    <tr>\n",
       "      <th>0</th>\n",
       "      <td>105001</td>\n",
       "      <td>0.961524</td>\n",
       "      <td>40</td>\n",
       "      <td>0</td>\n",
       "      <td>0.484671</td>\n",
       "      <td>12100.0</td>\n",
       "      <td>11</td>\n",
       "      <td>0</td>\n",
       "      <td>1</td>\n",
       "      <td>0</td>\n",
       "      <td>0.0</td>\n",
       "    </tr>\n",
       "    <tr>\n",
       "      <th>1</th>\n",
       "      <td>105002</td>\n",
       "      <td>0.729196</td>\n",
       "      <td>71</td>\n",
       "      <td>0</td>\n",
       "      <td>0.542329</td>\n",
       "      <td>10500.0</td>\n",
       "      <td>13</td>\n",
       "      <td>0</td>\n",
       "      <td>1</td>\n",
       "      <td>0</td>\n",
       "      <td>0.0</td>\n",
       "    </tr>\n",
       "    <tr>\n",
       "      <th>2</th>\n",
       "      <td>105003</td>\n",
       "      <td>0.025195</td>\n",
       "      <td>49</td>\n",
       "      <td>0</td>\n",
       "      <td>27.000000</td>\n",
       "      <td>NaN</td>\n",
       "      <td>2</td>\n",
       "      <td>0</td>\n",
       "      <td>0</td>\n",
       "      <td>0</td>\n",
       "      <td>NaN</td>\n",
       "    </tr>\n",
       "    <tr>\n",
       "      <th>3</th>\n",
       "      <td>105004</td>\n",
       "      <td>0.106295</td>\n",
       "      <td>58</td>\n",
       "      <td>0</td>\n",
       "      <td>0.156893</td>\n",
       "      <td>5200.0</td>\n",
       "      <td>10</td>\n",
       "      <td>0</td>\n",
       "      <td>1</td>\n",
       "      <td>1</td>\n",
       "      <td>0.0</td>\n",
       "    </tr>\n",
       "    <tr>\n",
       "      <th>4</th>\n",
       "      <td>105005</td>\n",
       "      <td>0.003515</td>\n",
       "      <td>68</td>\n",
       "      <td>0</td>\n",
       "      <td>0.000299</td>\n",
       "      <td>10045.0</td>\n",
       "      <td>6</td>\n",
       "      <td>0</td>\n",
       "      <td>0</td>\n",
       "      <td>0</td>\n",
       "      <td>0.0</td>\n",
       "    </tr>\n",
       "  </tbody>\n",
       "</table>\n",
       "</div>"
      ],
      "text/plain": [
       "       ID  Prct_uso_tc  Edad  Nro_prestao_retrasados  Prct_deuda_vs_ingresos  \\\n",
       "0  105001     0.961524    40                       0                0.484671   \n",
       "1  105002     0.729196    71                       0                0.542329   \n",
       "2  105003     0.025195    49                       0               27.000000   \n",
       "3  105004     0.106295    58                       0                0.156893   \n",
       "4  105005     0.003515    68                       0                0.000299   \n",
       "\n",
       "   Mto_ingreso_mensual  Nro_prod_financieros_deuda  Nro_retraso_60dias  \\\n",
       "0              12100.0                          11                   0   \n",
       "1              10500.0                          13                   0   \n",
       "2                  NaN                           2                   0   \n",
       "3               5200.0                          10                   0   \n",
       "4              10045.0                           6                   0   \n",
       "\n",
       "   Nro_creditos_hipotecarios  Nro_retraso_ultm3anios  Nro_dependiente  \n",
       "0                          1                       0              0.0  \n",
       "1                          1                       0              0.0  \n",
       "2                          0                       0              NaN  \n",
       "3                          1                       1              0.0  \n",
       "4                          0                       0              0.0  "
      ]
     },
     "execution_count": 44,
     "metadata": {},
     "output_type": "execute_result"
    }
   ],
   "source": [
    "dataset_test = pd.read_csv('../data/raw/test.csv')\n",
    "dataset_test.head()"
   ]
  },
  {
   "cell_type": "markdown",
   "metadata": {},
   "source": [
    "Proceso de preparacion de datos para predecir"
   ]
  },
  {
   "cell_type": "code",
   "execution_count": 45,
   "metadata": {},
   "outputs": [
    {
     "data": {
      "text/plain": [
       "{'Ing_mensual_imputado': 6636, 'No_dependiente_imputado': 1}"
      ]
     },
     "execution_count": 45,
     "metadata": {},
     "output_type": "execute_result"
    }
   ],
   "source": [
    "with open('../artifacts/feature_eng_configs.pkl','rb') as f:\n",
    "    feature_eng_config = pickle.load(f)\n",
    "\n",
    "feature_eng_config"
   ]
  },
  {
   "cell_type": "code",
   "execution_count": 46,
   "metadata": {},
   "outputs": [],
   "source": [
    "#Removemos la columna ID\n",
    "\n",
    "dataset_test.drop(['ID'], axis=1, inplace=True)\n",
    "\n",
    "# Imputamos Mto Ingreso Mensual\n",
    "\n",
    "dataset_test['Mto_ingreso_mensual'] = dataset_test['Mto_ingreso_mensual'].fillna(feature_eng_config['Ing_mensual_imputado'])\n",
    "\n",
    "\n",
    "# Imputamos Nro dependientes\n",
    "\n",
    "dataset_test['Nro_dependiente'] = dataset_test['Nro_dependiente'].fillna(feature_eng_config['No_dependiente_imputado'])"
   ]
  },
  {
   "cell_type": "code",
   "execution_count": 47,
   "metadata": {},
   "outputs": [
    {
     "data": {
      "text/html": [
       "<div>\n",
       "<style scoped>\n",
       "    .dataframe tbody tr th:only-of-type {\n",
       "        vertical-align: middle;\n",
       "    }\n",
       "\n",
       "    .dataframe tbody tr th {\n",
       "        vertical-align: top;\n",
       "    }\n",
       "\n",
       "    .dataframe thead th {\n",
       "        text-align: right;\n",
       "    }\n",
       "</style>\n",
       "<table border=\"1\" class=\"dataframe\">\n",
       "  <thead>\n",
       "    <tr style=\"text-align: right;\">\n",
       "      <th></th>\n",
       "      <th>Prct_uso_tc</th>\n",
       "      <th>Edad</th>\n",
       "      <th>Nro_prestao_retrasados</th>\n",
       "      <th>Prct_deuda_vs_ingresos</th>\n",
       "      <th>Mto_ingreso_mensual</th>\n",
       "      <th>Nro_prod_financieros_deuda</th>\n",
       "      <th>Nro_retraso_60dias</th>\n",
       "      <th>Nro_creditos_hipotecarios</th>\n",
       "      <th>Nro_retraso_ultm3anios</th>\n",
       "      <th>Nro_dependiente</th>\n",
       "    </tr>\n",
       "  </thead>\n",
       "  <tbody>\n",
       "    <tr>\n",
       "      <th>0</th>\n",
       "      <td>0.961524</td>\n",
       "      <td>40</td>\n",
       "      <td>0</td>\n",
       "      <td>0.484671</td>\n",
       "      <td>12100.0</td>\n",
       "      <td>11</td>\n",
       "      <td>0</td>\n",
       "      <td>1</td>\n",
       "      <td>0</td>\n",
       "      <td>0.0</td>\n",
       "    </tr>\n",
       "    <tr>\n",
       "      <th>1</th>\n",
       "      <td>0.729196</td>\n",
       "      <td>71</td>\n",
       "      <td>0</td>\n",
       "      <td>0.542329</td>\n",
       "      <td>10500.0</td>\n",
       "      <td>13</td>\n",
       "      <td>0</td>\n",
       "      <td>1</td>\n",
       "      <td>0</td>\n",
       "      <td>0.0</td>\n",
       "    </tr>\n",
       "    <tr>\n",
       "      <th>2</th>\n",
       "      <td>0.025195</td>\n",
       "      <td>49</td>\n",
       "      <td>0</td>\n",
       "      <td>27.000000</td>\n",
       "      <td>6636.0</td>\n",
       "      <td>2</td>\n",
       "      <td>0</td>\n",
       "      <td>0</td>\n",
       "      <td>0</td>\n",
       "      <td>1.0</td>\n",
       "    </tr>\n",
       "    <tr>\n",
       "      <th>3</th>\n",
       "      <td>0.106295</td>\n",
       "      <td>58</td>\n",
       "      <td>0</td>\n",
       "      <td>0.156893</td>\n",
       "      <td>5200.0</td>\n",
       "      <td>10</td>\n",
       "      <td>0</td>\n",
       "      <td>1</td>\n",
       "      <td>1</td>\n",
       "      <td>0.0</td>\n",
       "    </tr>\n",
       "    <tr>\n",
       "      <th>4</th>\n",
       "      <td>0.003515</td>\n",
       "      <td>68</td>\n",
       "      <td>0</td>\n",
       "      <td>0.000299</td>\n",
       "      <td>10045.0</td>\n",
       "      <td>6</td>\n",
       "      <td>0</td>\n",
       "      <td>0</td>\n",
       "      <td>0</td>\n",
       "      <td>0.0</td>\n",
       "    </tr>\n",
       "  </tbody>\n",
       "</table>\n",
       "</div>"
      ],
      "text/plain": [
       "   Prct_uso_tc  Edad  Nro_prestao_retrasados  Prct_deuda_vs_ingresos  \\\n",
       "0     0.961524    40                       0                0.484671   \n",
       "1     0.729196    71                       0                0.542329   \n",
       "2     0.025195    49                       0               27.000000   \n",
       "3     0.106295    58                       0                0.156893   \n",
       "4     0.003515    68                       0                0.000299   \n",
       "\n",
       "   Mto_ingreso_mensual  Nro_prod_financieros_deuda  Nro_retraso_60dias  \\\n",
       "0              12100.0                          11                   0   \n",
       "1              10500.0                          13                   0   \n",
       "2               6636.0                           2                   0   \n",
       "3               5200.0                          10                   0   \n",
       "4              10045.0                           6                   0   \n",
       "\n",
       "   Nro_creditos_hipotecarios  Nro_retraso_ultm3anios  Nro_dependiente  \n",
       "0                          1                       0              0.0  \n",
       "1                          1                       0              0.0  \n",
       "2                          0                       0              1.0  \n",
       "3                          1                       1              0.0  \n",
       "4                          0                       0              0.0  "
      ]
     },
     "execution_count": 47,
     "metadata": {},
     "output_type": "execute_result"
    }
   ],
   "source": [
    "dataset_test.head()"
   ]
  },
  {
   "cell_type": "markdown",
   "metadata": {},
   "source": [
    "Estandarizacion con objeto scaler de train"
   ]
  },
  {
   "cell_type": "code",
   "execution_count": 48,
   "metadata": {},
   "outputs": [],
   "source": [
    "with open('../artifacts/std_scaler.pkl','rb') as f:\n",
    "    std_scaler = pickle.load(f)"
   ]
  },
  {
   "cell_type": "markdown",
   "metadata": {},
   "source": [
    "Cargamos modelo entranado"
   ]
  },
  {
   "cell_type": "code",
   "execution_count": 55,
   "metadata": {},
   "outputs": [],
   "source": [
    "with open('../models/random_forest_v1.pkl','rb') as f:\n",
    "    model = pickle.load(f)\n",
    "\n",
    "    model"
   ]
  },
  {
   "cell_type": "code",
   "execution_count": 50,
   "metadata": {},
   "outputs": [
    {
     "name": "stdout",
     "output_type": "stream",
     "text": [
      "\u001b[1m1407/1407\u001b[0m \u001b[32m━━━━━━━━━━━━━━━━━━━━\u001b[0m\u001b[37m\u001b[0m \u001b[1m1s\u001b[0m 467us/step\n"
     ]
    },
    {
     "data": {
      "text/plain": [
       "array([[0.89219767],\n",
       "       [0.50881636],\n",
       "       [0.00112109],\n",
       "       ...,\n",
       "       [0.        ],\n",
       "       [0.14673473],\n",
       "       [0.8237426 ]], dtype=float32)"
      ]
     },
     "execution_count": 50,
     "metadata": {},
     "output_type": "execute_result"
    }
   ],
   "source": [
    "X_data_test_std = std_scaler.transform(dataset_test)\n",
    "data_test_predicts = model.predict(X_data_test_std)\n",
    "\n",
    "data_test_predicts"
   ]
  },
  {
   "cell_type": "code",
   "execution_count": null,
   "metadata": {},
   "outputs": [],
   "source": [
    "X_data_test_std"
   ]
  }
 ],
 "metadata": {
  "kernelspec": {
   "display_name": "venv-mini-proyecto2",
   "language": "python",
   "name": "python3"
  },
  "language_info": {
   "codemirror_mode": {
    "name": "ipython",
    "version": 3
   },
   "file_extension": ".py",
   "mimetype": "text/x-python",
   "name": "python",
   "nbconvert_exporter": "python",
   "pygments_lexer": "ipython3",
   "version": "3.12.7"
  }
 },
 "nbformat": 4,
 "nbformat_minor": 2
}
