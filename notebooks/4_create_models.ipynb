{
 "cells": [
  {
   "cell_type": "code",
   "execution_count": 14,
   "metadata": {},
   "outputs": [],
   "source": [
    "import numpy as np\n",
    "import pandas as pd\n",
    "from sklearn.naive_bayes import GaussianNB\n",
    "from sklearn.ensemble import RandomForestClassifier\n",
    "from sklearn.tree import DecisionTreeClassifier\n",
    "from sklearn.linear_model import LogisticRegression\n",
    "import tensorflow as tf\n",
    "from tensorflow.keras.models import Sequential\n",
    "from tensorflow.keras.layers import Dense\n",
    "from sklearn.model_selection import KFold\n",
    "from sklearn.model_selection import train_test_split \n",
    "from sklearn.metrics import accuracy_score\n",
    "from sklearn.preprocessing import StandardScaler\n",
    "import mlflow "
   ]
  },
  {
   "cell_type": "code",
   "execution_count": 15,
   "metadata": {},
   "outputs": [],
   "source": [
    "dataset = pd.read_csv(\"../data/processed/dataset_for_model.csv\")"
   ]
  },
  {
   "cell_type": "code",
   "execution_count": 3,
   "metadata": {},
   "outputs": [
    {
     "data": {
      "text/html": [
       "<div>\n",
       "<style scoped>\n",
       "    .dataframe tbody tr th:only-of-type {\n",
       "        vertical-align: middle;\n",
       "    }\n",
       "\n",
       "    .dataframe tbody tr th {\n",
       "        vertical-align: top;\n",
       "    }\n",
       "\n",
       "    .dataframe thead th {\n",
       "        text-align: right;\n",
       "    }\n",
       "</style>\n",
       "<table border=\"1\" class=\"dataframe\">\n",
       "  <thead>\n",
       "    <tr style=\"text-align: right;\">\n",
       "      <th></th>\n",
       "      <th>Default</th>\n",
       "      <th>Prct_uso_tc</th>\n",
       "      <th>Edad</th>\n",
       "      <th>Nro_prestao_retrasados</th>\n",
       "      <th>Prct_deuda_vs_ingresos</th>\n",
       "      <th>Mto_ingreso_mensual</th>\n",
       "      <th>Nro_prod_financieros_deuda</th>\n",
       "      <th>Nro_retraso_60dias</th>\n",
       "      <th>Nro_creditos_hipotecarios</th>\n",
       "      <th>Nro_retraso_ultm3anios</th>\n",
       "      <th>Nro_dependiente</th>\n",
       "    </tr>\n",
       "  </thead>\n",
       "  <tbody>\n",
       "    <tr>\n",
       "      <th>0</th>\n",
       "      <td>1</td>\n",
       "      <td>0.766127</td>\n",
       "      <td>45.0</td>\n",
       "      <td>2</td>\n",
       "      <td>0.802982</td>\n",
       "      <td>9120.00</td>\n",
       "      <td>13.0</td>\n",
       "      <td>0</td>\n",
       "      <td>6</td>\n",
       "      <td>0</td>\n",
       "      <td>2</td>\n",
       "    </tr>\n",
       "    <tr>\n",
       "      <th>1</th>\n",
       "      <td>0</td>\n",
       "      <td>0.957151</td>\n",
       "      <td>40.0</td>\n",
       "      <td>0</td>\n",
       "      <td>0.121876</td>\n",
       "      <td>2600.00</td>\n",
       "      <td>4.0</td>\n",
       "      <td>0</td>\n",
       "      <td>0</td>\n",
       "      <td>0</td>\n",
       "      <td>1</td>\n",
       "    </tr>\n",
       "    <tr>\n",
       "      <th>2</th>\n",
       "      <td>0</td>\n",
       "      <td>0.658180</td>\n",
       "      <td>38.0</td>\n",
       "      <td>1</td>\n",
       "      <td>0.085113</td>\n",
       "      <td>3042.00</td>\n",
       "      <td>2.0</td>\n",
       "      <td>1</td>\n",
       "      <td>0</td>\n",
       "      <td>0</td>\n",
       "      <td>0</td>\n",
       "    </tr>\n",
       "    <tr>\n",
       "      <th>3</th>\n",
       "      <td>0</td>\n",
       "      <td>0.233810</td>\n",
       "      <td>30.0</td>\n",
       "      <td>0</td>\n",
       "      <td>0.036050</td>\n",
       "      <td>3300.00</td>\n",
       "      <td>5.0</td>\n",
       "      <td>0</td>\n",
       "      <td>0</td>\n",
       "      <td>0</td>\n",
       "      <td>0</td>\n",
       "    </tr>\n",
       "    <tr>\n",
       "      <th>4</th>\n",
       "      <td>0</td>\n",
       "      <td>0.907239</td>\n",
       "      <td>49.0</td>\n",
       "      <td>1</td>\n",
       "      <td>0.024926</td>\n",
       "      <td>12598.25</td>\n",
       "      <td>7.0</td>\n",
       "      <td>0</td>\n",
       "      <td>1</td>\n",
       "      <td>0</td>\n",
       "      <td>0</td>\n",
       "    </tr>\n",
       "  </tbody>\n",
       "</table>\n",
       "</div>"
      ],
      "text/plain": [
       "   Default  Prct_uso_tc  Edad  Nro_prestao_retrasados  Prct_deuda_vs_ingresos  \\\n",
       "0        1     0.766127  45.0                       2                0.802982   \n",
       "1        0     0.957151  40.0                       0                0.121876   \n",
       "2        0     0.658180  38.0                       1                0.085113   \n",
       "3        0     0.233810  30.0                       0                0.036050   \n",
       "4        0     0.907239  49.0                       1                0.024926   \n",
       "\n",
       "   Mto_ingreso_mensual  Nro_prod_financieros_deuda  Nro_retraso_60dias  \\\n",
       "0              9120.00                        13.0                   0   \n",
       "1              2600.00                         4.0                   0   \n",
       "2              3042.00                         2.0                   1   \n",
       "3              3300.00                         5.0                   0   \n",
       "4             12598.25                         7.0                   0   \n",
       "\n",
       "   Nro_creditos_hipotecarios  Nro_retraso_ultm3anios  Nro_dependiente  \n",
       "0                          6                       0                2  \n",
       "1                          0                       0                1  \n",
       "2                          0                       0                0  \n",
       "3                          0                       0                0  \n",
       "4                          1                       0                0  "
      ]
     },
     "execution_count": 3,
     "metadata": {},
     "output_type": "execute_result"
    }
   ],
   "source": [
    "dataset.head()"
   ]
  },
  {
   "cell_type": "code",
   "execution_count": 16,
   "metadata": {},
   "outputs": [],
   "source": [
    "X = dataset.drop(['Default'], axis=1)\n",
    "y = dataset['Default']"
   ]
  },
  {
   "cell_type": "code",
   "execution_count": 17,
   "metadata": {},
   "outputs": [],
   "source": [
    "X_train, X_test, y_train, y_test = train_test_split(X, y, test_size=0.3, random_state=42)"
   ]
  },
  {
   "cell_type": "markdown",
   "metadata": {},
   "source": [
    "Configuramos y calculamos el StandarScaler"
   ]
  },
  {
   "cell_type": "code",
   "execution_count": 18,
   "metadata": {},
   "outputs": [
    {
     "data": {
      "text/html": [
       "<style>#sk-container-id-2 {\n",
       "  /* Definition of color scheme common for light and dark mode */\n",
       "  --sklearn-color-text: black;\n",
       "  --sklearn-color-line: gray;\n",
       "  /* Definition of color scheme for unfitted estimators */\n",
       "  --sklearn-color-unfitted-level-0: #fff5e6;\n",
       "  --sklearn-color-unfitted-level-1: #f6e4d2;\n",
       "  --sklearn-color-unfitted-level-2: #ffe0b3;\n",
       "  --sklearn-color-unfitted-level-3: chocolate;\n",
       "  /* Definition of color scheme for fitted estimators */\n",
       "  --sklearn-color-fitted-level-0: #f0f8ff;\n",
       "  --sklearn-color-fitted-level-1: #d4ebff;\n",
       "  --sklearn-color-fitted-level-2: #b3dbfd;\n",
       "  --sklearn-color-fitted-level-3: cornflowerblue;\n",
       "\n",
       "  /* Specific color for light theme */\n",
       "  --sklearn-color-text-on-default-background: var(--sg-text-color, var(--theme-code-foreground, var(--jp-content-font-color1, black)));\n",
       "  --sklearn-color-background: var(--sg-background-color, var(--theme-background, var(--jp-layout-color0, white)));\n",
       "  --sklearn-color-border-box: var(--sg-text-color, var(--theme-code-foreground, var(--jp-content-font-color1, black)));\n",
       "  --sklearn-color-icon: #696969;\n",
       "\n",
       "  @media (prefers-color-scheme: dark) {\n",
       "    /* Redefinition of color scheme for dark theme */\n",
       "    --sklearn-color-text-on-default-background: var(--sg-text-color, var(--theme-code-foreground, var(--jp-content-font-color1, white)));\n",
       "    --sklearn-color-background: var(--sg-background-color, var(--theme-background, var(--jp-layout-color0, #111)));\n",
       "    --sklearn-color-border-box: var(--sg-text-color, var(--theme-code-foreground, var(--jp-content-font-color1, white)));\n",
       "    --sklearn-color-icon: #878787;\n",
       "  }\n",
       "}\n",
       "\n",
       "#sk-container-id-2 {\n",
       "  color: var(--sklearn-color-text);\n",
       "}\n",
       "\n",
       "#sk-container-id-2 pre {\n",
       "  padding: 0;\n",
       "}\n",
       "\n",
       "#sk-container-id-2 input.sk-hidden--visually {\n",
       "  border: 0;\n",
       "  clip: rect(1px 1px 1px 1px);\n",
       "  clip: rect(1px, 1px, 1px, 1px);\n",
       "  height: 1px;\n",
       "  margin: -1px;\n",
       "  overflow: hidden;\n",
       "  padding: 0;\n",
       "  position: absolute;\n",
       "  width: 1px;\n",
       "}\n",
       "\n",
       "#sk-container-id-2 div.sk-dashed-wrapped {\n",
       "  border: 1px dashed var(--sklearn-color-line);\n",
       "  margin: 0 0.4em 0.5em 0.4em;\n",
       "  box-sizing: border-box;\n",
       "  padding-bottom: 0.4em;\n",
       "  background-color: var(--sklearn-color-background);\n",
       "}\n",
       "\n",
       "#sk-container-id-2 div.sk-container {\n",
       "  /* jupyter's `normalize.less` sets `[hidden] { display: none; }`\n",
       "     but bootstrap.min.css set `[hidden] { display: none !important; }`\n",
       "     so we also need the `!important` here to be able to override the\n",
       "     default hidden behavior on the sphinx rendered scikit-learn.org.\n",
       "     See: https://github.com/scikit-learn/scikit-learn/issues/21755 */\n",
       "  display: inline-block !important;\n",
       "  position: relative;\n",
       "}\n",
       "\n",
       "#sk-container-id-2 div.sk-text-repr-fallback {\n",
       "  display: none;\n",
       "}\n",
       "\n",
       "div.sk-parallel-item,\n",
       "div.sk-serial,\n",
       "div.sk-item {\n",
       "  /* draw centered vertical line to link estimators */\n",
       "  background-image: linear-gradient(var(--sklearn-color-text-on-default-background), var(--sklearn-color-text-on-default-background));\n",
       "  background-size: 2px 100%;\n",
       "  background-repeat: no-repeat;\n",
       "  background-position: center center;\n",
       "}\n",
       "\n",
       "/* Parallel-specific style estimator block */\n",
       "\n",
       "#sk-container-id-2 div.sk-parallel-item::after {\n",
       "  content: \"\";\n",
       "  width: 100%;\n",
       "  border-bottom: 2px solid var(--sklearn-color-text-on-default-background);\n",
       "  flex-grow: 1;\n",
       "}\n",
       "\n",
       "#sk-container-id-2 div.sk-parallel {\n",
       "  display: flex;\n",
       "  align-items: stretch;\n",
       "  justify-content: center;\n",
       "  background-color: var(--sklearn-color-background);\n",
       "  position: relative;\n",
       "}\n",
       "\n",
       "#sk-container-id-2 div.sk-parallel-item {\n",
       "  display: flex;\n",
       "  flex-direction: column;\n",
       "}\n",
       "\n",
       "#sk-container-id-2 div.sk-parallel-item:first-child::after {\n",
       "  align-self: flex-end;\n",
       "  width: 50%;\n",
       "}\n",
       "\n",
       "#sk-container-id-2 div.sk-parallel-item:last-child::after {\n",
       "  align-self: flex-start;\n",
       "  width: 50%;\n",
       "}\n",
       "\n",
       "#sk-container-id-2 div.sk-parallel-item:only-child::after {\n",
       "  width: 0;\n",
       "}\n",
       "\n",
       "/* Serial-specific style estimator block */\n",
       "\n",
       "#sk-container-id-2 div.sk-serial {\n",
       "  display: flex;\n",
       "  flex-direction: column;\n",
       "  align-items: center;\n",
       "  background-color: var(--sklearn-color-background);\n",
       "  padding-right: 1em;\n",
       "  padding-left: 1em;\n",
       "}\n",
       "\n",
       "\n",
       "/* Toggleable style: style used for estimator/Pipeline/ColumnTransformer box that is\n",
       "clickable and can be expanded/collapsed.\n",
       "- Pipeline and ColumnTransformer use this feature and define the default style\n",
       "- Estimators will overwrite some part of the style using the `sk-estimator` class\n",
       "*/\n",
       "\n",
       "/* Pipeline and ColumnTransformer style (default) */\n",
       "\n",
       "#sk-container-id-2 div.sk-toggleable {\n",
       "  /* Default theme specific background. It is overwritten whether we have a\n",
       "  specific estimator or a Pipeline/ColumnTransformer */\n",
       "  background-color: var(--sklearn-color-background);\n",
       "}\n",
       "\n",
       "/* Toggleable label */\n",
       "#sk-container-id-2 label.sk-toggleable__label {\n",
       "  cursor: pointer;\n",
       "  display: block;\n",
       "  width: 100%;\n",
       "  margin-bottom: 0;\n",
       "  padding: 0.5em;\n",
       "  box-sizing: border-box;\n",
       "  text-align: center;\n",
       "}\n",
       "\n",
       "#sk-container-id-2 label.sk-toggleable__label-arrow:before {\n",
       "  /* Arrow on the left of the label */\n",
       "  content: \"▸\";\n",
       "  float: left;\n",
       "  margin-right: 0.25em;\n",
       "  color: var(--sklearn-color-icon);\n",
       "}\n",
       "\n",
       "#sk-container-id-2 label.sk-toggleable__label-arrow:hover:before {\n",
       "  color: var(--sklearn-color-text);\n",
       "}\n",
       "\n",
       "/* Toggleable content - dropdown */\n",
       "\n",
       "#sk-container-id-2 div.sk-toggleable__content {\n",
       "  max-height: 0;\n",
       "  max-width: 0;\n",
       "  overflow: hidden;\n",
       "  text-align: left;\n",
       "  /* unfitted */\n",
       "  background-color: var(--sklearn-color-unfitted-level-0);\n",
       "}\n",
       "\n",
       "#sk-container-id-2 div.sk-toggleable__content.fitted {\n",
       "  /* fitted */\n",
       "  background-color: var(--sklearn-color-fitted-level-0);\n",
       "}\n",
       "\n",
       "#sk-container-id-2 div.sk-toggleable__content pre {\n",
       "  margin: 0.2em;\n",
       "  border-radius: 0.25em;\n",
       "  color: var(--sklearn-color-text);\n",
       "  /* unfitted */\n",
       "  background-color: var(--sklearn-color-unfitted-level-0);\n",
       "}\n",
       "\n",
       "#sk-container-id-2 div.sk-toggleable__content.fitted pre {\n",
       "  /* unfitted */\n",
       "  background-color: var(--sklearn-color-fitted-level-0);\n",
       "}\n",
       "\n",
       "#sk-container-id-2 input.sk-toggleable__control:checked~div.sk-toggleable__content {\n",
       "  /* Expand drop-down */\n",
       "  max-height: 200px;\n",
       "  max-width: 100%;\n",
       "  overflow: auto;\n",
       "}\n",
       "\n",
       "#sk-container-id-2 input.sk-toggleable__control:checked~label.sk-toggleable__label-arrow:before {\n",
       "  content: \"▾\";\n",
       "}\n",
       "\n",
       "/* Pipeline/ColumnTransformer-specific style */\n",
       "\n",
       "#sk-container-id-2 div.sk-label input.sk-toggleable__control:checked~label.sk-toggleable__label {\n",
       "  color: var(--sklearn-color-text);\n",
       "  background-color: var(--sklearn-color-unfitted-level-2);\n",
       "}\n",
       "\n",
       "#sk-container-id-2 div.sk-label.fitted input.sk-toggleable__control:checked~label.sk-toggleable__label {\n",
       "  background-color: var(--sklearn-color-fitted-level-2);\n",
       "}\n",
       "\n",
       "/* Estimator-specific style */\n",
       "\n",
       "/* Colorize estimator box */\n",
       "#sk-container-id-2 div.sk-estimator input.sk-toggleable__control:checked~label.sk-toggleable__label {\n",
       "  /* unfitted */\n",
       "  background-color: var(--sklearn-color-unfitted-level-2);\n",
       "}\n",
       "\n",
       "#sk-container-id-2 div.sk-estimator.fitted input.sk-toggleable__control:checked~label.sk-toggleable__label {\n",
       "  /* fitted */\n",
       "  background-color: var(--sklearn-color-fitted-level-2);\n",
       "}\n",
       "\n",
       "#sk-container-id-2 div.sk-label label.sk-toggleable__label,\n",
       "#sk-container-id-2 div.sk-label label {\n",
       "  /* The background is the default theme color */\n",
       "  color: var(--sklearn-color-text-on-default-background);\n",
       "}\n",
       "\n",
       "/* On hover, darken the color of the background */\n",
       "#sk-container-id-2 div.sk-label:hover label.sk-toggleable__label {\n",
       "  color: var(--sklearn-color-text);\n",
       "  background-color: var(--sklearn-color-unfitted-level-2);\n",
       "}\n",
       "\n",
       "/* Label box, darken color on hover, fitted */\n",
       "#sk-container-id-2 div.sk-label.fitted:hover label.sk-toggleable__label.fitted {\n",
       "  color: var(--sklearn-color-text);\n",
       "  background-color: var(--sklearn-color-fitted-level-2);\n",
       "}\n",
       "\n",
       "/* Estimator label */\n",
       "\n",
       "#sk-container-id-2 div.sk-label label {\n",
       "  font-family: monospace;\n",
       "  font-weight: bold;\n",
       "  display: inline-block;\n",
       "  line-height: 1.2em;\n",
       "}\n",
       "\n",
       "#sk-container-id-2 div.sk-label-container {\n",
       "  text-align: center;\n",
       "}\n",
       "\n",
       "/* Estimator-specific */\n",
       "#sk-container-id-2 div.sk-estimator {\n",
       "  font-family: monospace;\n",
       "  border: 1px dotted var(--sklearn-color-border-box);\n",
       "  border-radius: 0.25em;\n",
       "  box-sizing: border-box;\n",
       "  margin-bottom: 0.5em;\n",
       "  /* unfitted */\n",
       "  background-color: var(--sklearn-color-unfitted-level-0);\n",
       "}\n",
       "\n",
       "#sk-container-id-2 div.sk-estimator.fitted {\n",
       "  /* fitted */\n",
       "  background-color: var(--sklearn-color-fitted-level-0);\n",
       "}\n",
       "\n",
       "/* on hover */\n",
       "#sk-container-id-2 div.sk-estimator:hover {\n",
       "  /* unfitted */\n",
       "  background-color: var(--sklearn-color-unfitted-level-2);\n",
       "}\n",
       "\n",
       "#sk-container-id-2 div.sk-estimator.fitted:hover {\n",
       "  /* fitted */\n",
       "  background-color: var(--sklearn-color-fitted-level-2);\n",
       "}\n",
       "\n",
       "/* Specification for estimator info (e.g. \"i\" and \"?\") */\n",
       "\n",
       "/* Common style for \"i\" and \"?\" */\n",
       "\n",
       ".sk-estimator-doc-link,\n",
       "a:link.sk-estimator-doc-link,\n",
       "a:visited.sk-estimator-doc-link {\n",
       "  float: right;\n",
       "  font-size: smaller;\n",
       "  line-height: 1em;\n",
       "  font-family: monospace;\n",
       "  background-color: var(--sklearn-color-background);\n",
       "  border-radius: 1em;\n",
       "  height: 1em;\n",
       "  width: 1em;\n",
       "  text-decoration: none !important;\n",
       "  margin-left: 1ex;\n",
       "  /* unfitted */\n",
       "  border: var(--sklearn-color-unfitted-level-1) 1pt solid;\n",
       "  color: var(--sklearn-color-unfitted-level-1);\n",
       "}\n",
       "\n",
       ".sk-estimator-doc-link.fitted,\n",
       "a:link.sk-estimator-doc-link.fitted,\n",
       "a:visited.sk-estimator-doc-link.fitted {\n",
       "  /* fitted */\n",
       "  border: var(--sklearn-color-fitted-level-1) 1pt solid;\n",
       "  color: var(--sklearn-color-fitted-level-1);\n",
       "}\n",
       "\n",
       "/* On hover */\n",
       "div.sk-estimator:hover .sk-estimator-doc-link:hover,\n",
       ".sk-estimator-doc-link:hover,\n",
       "div.sk-label-container:hover .sk-estimator-doc-link:hover,\n",
       ".sk-estimator-doc-link:hover {\n",
       "  /* unfitted */\n",
       "  background-color: var(--sklearn-color-unfitted-level-3);\n",
       "  color: var(--sklearn-color-background);\n",
       "  text-decoration: none;\n",
       "}\n",
       "\n",
       "div.sk-estimator.fitted:hover .sk-estimator-doc-link.fitted:hover,\n",
       ".sk-estimator-doc-link.fitted:hover,\n",
       "div.sk-label-container:hover .sk-estimator-doc-link.fitted:hover,\n",
       ".sk-estimator-doc-link.fitted:hover {\n",
       "  /* fitted */\n",
       "  background-color: var(--sklearn-color-fitted-level-3);\n",
       "  color: var(--sklearn-color-background);\n",
       "  text-decoration: none;\n",
       "}\n",
       "\n",
       "/* Span, style for the box shown on hovering the info icon */\n",
       ".sk-estimator-doc-link span {\n",
       "  display: none;\n",
       "  z-index: 9999;\n",
       "  position: relative;\n",
       "  font-weight: normal;\n",
       "  right: .2ex;\n",
       "  padding: .5ex;\n",
       "  margin: .5ex;\n",
       "  width: min-content;\n",
       "  min-width: 20ex;\n",
       "  max-width: 50ex;\n",
       "  color: var(--sklearn-color-text);\n",
       "  box-shadow: 2pt 2pt 4pt #999;\n",
       "  /* unfitted */\n",
       "  background: var(--sklearn-color-unfitted-level-0);\n",
       "  border: .5pt solid var(--sklearn-color-unfitted-level-3);\n",
       "}\n",
       "\n",
       ".sk-estimator-doc-link.fitted span {\n",
       "  /* fitted */\n",
       "  background: var(--sklearn-color-fitted-level-0);\n",
       "  border: var(--sklearn-color-fitted-level-3);\n",
       "}\n",
       "\n",
       ".sk-estimator-doc-link:hover span {\n",
       "  display: block;\n",
       "}\n",
       "\n",
       "/* \"?\"-specific style due to the `<a>` HTML tag */\n",
       "\n",
       "#sk-container-id-2 a.estimator_doc_link {\n",
       "  float: right;\n",
       "  font-size: 1rem;\n",
       "  line-height: 1em;\n",
       "  font-family: monospace;\n",
       "  background-color: var(--sklearn-color-background);\n",
       "  border-radius: 1rem;\n",
       "  height: 1rem;\n",
       "  width: 1rem;\n",
       "  text-decoration: none;\n",
       "  /* unfitted */\n",
       "  color: var(--sklearn-color-unfitted-level-1);\n",
       "  border: var(--sklearn-color-unfitted-level-1) 1pt solid;\n",
       "}\n",
       "\n",
       "#sk-container-id-2 a.estimator_doc_link.fitted {\n",
       "  /* fitted */\n",
       "  border: var(--sklearn-color-fitted-level-1) 1pt solid;\n",
       "  color: var(--sklearn-color-fitted-level-1);\n",
       "}\n",
       "\n",
       "/* On hover */\n",
       "#sk-container-id-2 a.estimator_doc_link:hover {\n",
       "  /* unfitted */\n",
       "  background-color: var(--sklearn-color-unfitted-level-3);\n",
       "  color: var(--sklearn-color-background);\n",
       "  text-decoration: none;\n",
       "}\n",
       "\n",
       "#sk-container-id-2 a.estimator_doc_link.fitted:hover {\n",
       "  /* fitted */\n",
       "  background-color: var(--sklearn-color-fitted-level-3);\n",
       "}\n",
       "</style><div id=\"sk-container-id-2\" class=\"sk-top-container\"><div class=\"sk-text-repr-fallback\"><pre>StandardScaler()</pre><b>In a Jupyter environment, please rerun this cell to show the HTML representation or trust the notebook. <br />On GitHub, the HTML representation is unable to render, please try loading this page with nbviewer.org.</b></div><div class=\"sk-container\" hidden><div class=\"sk-item\"><div class=\"sk-estimator fitted sk-toggleable\"><input class=\"sk-toggleable__control sk-hidden--visually\" id=\"sk-estimator-id-2\" type=\"checkbox\" checked><label for=\"sk-estimator-id-2\" class=\"sk-toggleable__label fitted sk-toggleable__label-arrow fitted\">&nbsp;&nbsp;StandardScaler<a class=\"sk-estimator-doc-link fitted\" rel=\"noreferrer\" target=\"_blank\" href=\"https://scikit-learn.org/1.5/modules/generated/sklearn.preprocessing.StandardScaler.html\">?<span>Documentation for StandardScaler</span></a><span class=\"sk-estimator-doc-link fitted\">i<span>Fitted</span></span></label><div class=\"sk-toggleable__content fitted\"><pre>StandardScaler()</pre></div> </div></div></div></div>"
      ],
      "text/plain": [
       "StandardScaler()"
      ]
     },
     "execution_count": 18,
     "metadata": {},
     "output_type": "execute_result"
    }
   ],
   "source": [
    "std_scaler = StandardScaler()\n",
    "std_scaler.fit(X_train) # calcular los valores para el scaler"
   ]
  },
  {
   "cell_type": "markdown",
   "metadata": {},
   "source": [
    "Guardamos el scaler configurado"
   ]
  },
  {
   "cell_type": "code",
   "execution_count": 7,
   "metadata": {},
   "outputs": [],
   "source": [
    "import pickle\n",
    "\n",
    "\n",
    "with open('../artifacts/std_scaler.pkl','wb') as f:\n",
    "    pickle.dump(std_scaler,f)"
   ]
  },
  {
   "cell_type": "markdown",
   "metadata": {},
   "source": [
    "# Creacion de Modelos"
   ]
  },
  {
   "cell_type": "code",
   "execution_count": 8,
   "metadata": {},
   "outputs": [
    {
     "name": "stderr",
     "output_type": "stream",
     "text": [
      "2024/12/19 22:42:35 INFO mlflow.tracking.fluent: Experiment with name 'Credit Default Predict Model' does not exist. Creating a new experiment.\n"
     ]
    },
    {
     "data": {
      "text/plain": [
       "<Experiment: artifact_location='mlflow-artifacts:/944934590087954932', creation_time=1734669755422, experiment_id='944934590087954932', last_update_time=1734669755422, lifecycle_stage='active', name='Credit Default Predict Model', tags={}>"
      ]
     },
     "execution_count": 8,
     "metadata": {},
     "output_type": "execute_result"
    }
   ],
   "source": [
    "mlflow.set_tracking_uri('http://127.0.0.1:8080')\n",
    "mlflow.set_experiment('Credit Default Predict Model')"
   ]
  },
  {
   "cell_type": "markdown",
   "metadata": {},
   "source": [
    "# Modelo 1"
   ]
  },
  {
   "cell_type": "markdown",
   "metadata": {},
   "source": [
    "### Naive Bayes 1"
   ]
  },
  {
   "cell_type": "code",
   "execution_count": 24,
   "metadata": {},
   "outputs": [
    {
     "name": "stderr",
     "output_type": "stream",
     "text": [
      "2024/12/19 23:46:52 WARNING mlflow.models.model: Model logged without a signature and input example. Please set `input_example` parameter when logging the model to auto infer the model signature.\n"
     ]
    },
    {
     "name": "stdout",
     "output_type": "stream",
     "text": [
      "🏃 View run resilient-chimp-984 at: http://127.0.0.1:8080/#/experiments/944934590087954932/runs/833bedaca05a46ecaf51dee05757a9ac\n",
      "🧪 View experiment at: http://127.0.0.1:8080/#/experiments/944934590087954932\n"
     ]
    }
   ],
   "source": [
    "with mlflow.start_run():\n",
    "    \n",
    "    #Naive Bayes 1\n",
    "    nb_classifier = GaussianNB()\n",
    "    nb_classifier.fit(X_train, y_train)\n",
    "    y_pred = nb_classifier.predict(X_test)\n",
    "    accuracy = accuracy_score(y_test, y_pred)\n",
    "    #Registramos Hiper-parametros\n",
    "    params_nb1=dict(var_smoothing=1e-9)\n",
    "    mlflow.log_params(params_nb1)\n",
    "    #Registramos métricas\n",
    "    mlflow.log_metric('accuracy_score',accuracy)\n",
    "    #Registramos  modelo entrenado\n",
    "    mlflow.sklearn.log_model(nb_classifier,\"Naive Bayes 1\")\n",
    "\n",
    "    mlflow.end_run()"
   ]
  },
  {
   "cell_type": "markdown",
   "metadata": {},
   "source": [
    "### Naive Bayes 2"
   ]
  },
  {
   "cell_type": "code",
   "execution_count": 25,
   "metadata": {},
   "outputs": [
    {
     "name": "stderr",
     "output_type": "stream",
     "text": [
      "2024/12/19 23:47:06 WARNING mlflow.models.model: Model logged without a signature and input example. Please set `input_example` parameter when logging the model to auto infer the model signature.\n"
     ]
    },
    {
     "name": "stdout",
     "output_type": "stream",
     "text": [
      "🏃 View run intrigued-sow-934 at: http://127.0.0.1:8080/#/experiments/944934590087954932/runs/7afd867747454a7c803976391588de86\n",
      "🧪 View experiment at: http://127.0.0.1:8080/#/experiments/944934590087954932\n"
     ]
    }
   ],
   "source": [
    "with mlflow.start_run():\n",
    "    \n",
    "    #Naive Bayes 2\n",
    "    nb_classifier = GaussianNB(var_smoothing=2.0)\n",
    "    nb_classifier.fit(X_train, y_train)\n",
    "    y_pred = nb_classifier.predict(X_test)\n",
    "    accuracy = accuracy_score(y_test, y_pred)\n",
    "    #Registramos Hiper-parametros\n",
    "    params_nb2=dict(var_smoothing=2.0)\n",
    "    mlflow.log_params(params_nb2)\n",
    "    #Registramos métricas\n",
    "    mlflow.log_metric('accuracy_score',accuracy)\n",
    "    #Registramos  modelo entrenado\n",
    "    mlflow.sklearn.log_model(nb_classifier,\"Naive Bayes 2\")\n",
    "\n",
    "    mlflow.end_run()"
   ]
  },
  {
   "cell_type": "markdown",
   "metadata": {},
   "source": [
    "### Naive Bayes 3"
   ]
  },
  {
   "cell_type": "code",
   "execution_count": 26,
   "metadata": {},
   "outputs": [
    {
     "name": "stderr",
     "output_type": "stream",
     "text": [
      "2024/12/19 23:48:19 WARNING mlflow.models.model: Model logged without a signature and input example. Please set `input_example` parameter when logging the model to auto infer the model signature.\n"
     ]
    },
    {
     "name": "stdout",
     "output_type": "stream",
     "text": [
      "🏃 View run wise-elk-813 at: http://127.0.0.1:8080/#/experiments/944934590087954932/runs/84ef61a542e94a62a3fc75278a1af41f\n",
      "🧪 View experiment at: http://127.0.0.1:8080/#/experiments/944934590087954932\n"
     ]
    }
   ],
   "source": [
    "with mlflow.start_run():\n",
    "    #Naive Bayes 3\n",
    "    nb_classifier = GaussianNB(var_smoothing=0.5)\n",
    "    nb_classifier.fit(X_train, y_train)\n",
    "    y_pred = nb_classifier.predict(X_test)\n",
    "    accuracy = accuracy_score(y_test, y_pred)\n",
    "    #Registramos Hiper-parametros\n",
    "    params_nb3=dict(var_smoothing=0.5)\n",
    "    mlflow.log_params(params_nb3)\n",
    "    #Registramos métricas\n",
    "    mlflow.log_metric('accuracy_score',accuracy)\n",
    "    #Registramos  modelo entrenado\n",
    "    mlflow.sklearn.log_model(nb_classifier,\"Naive Bayes 3\") \n",
    "\n",
    "    mlflow.end_run()"
   ]
  },
  {
   "cell_type": "markdown",
   "metadata": {},
   "source": [
    "# Modelo 2"
   ]
  },
  {
   "cell_type": "markdown",
   "metadata": {},
   "source": [
    "### Random Forest 1"
   ]
  },
  {
   "cell_type": "code",
   "execution_count": 28,
   "metadata": {},
   "outputs": [
    {
     "name": "stderr",
     "output_type": "stream",
     "text": [
      "2024/12/19 23:50:31 WARNING mlflow.models.model: Model logged without a signature and input example. Please set `input_example` parameter when logging the model to auto infer the model signature.\n"
     ]
    },
    {
     "name": "stdout",
     "output_type": "stream",
     "text": [
      "🏃 View run stately-shrike-826 at: http://127.0.0.1:8080/#/experiments/944934590087954932/runs/90e3509295f34d0fa56b6f6b396a989f\n",
      "🧪 View experiment at: http://127.0.0.1:8080/#/experiments/944934590087954932\n"
     ]
    }
   ],
   "source": [
    "with mlflow.start_run():\n",
    "    \n",
    "    #Random Forest 1\n",
    "    rf_classifier = RandomForestClassifier(n_estimators=100, random_state=42)\n",
    "    rf_classifier.fit(X_train, y_train)\n",
    "    y_pred = rf_classifier.predict(X_test)\n",
    "    accuracy = accuracy_score(y_test, y_pred)\n",
    "    #Registramos Hiper-parametros\n",
    "    params_rf1=dict(n_estimators=100, random_state=42)\n",
    "    mlflow.log_params(params_rf1)\n",
    "    #Registramos métricas\n",
    "    mlflow.log_metric('accuracy_score',accuracy)\n",
    "    #Registramos  modelo entrenado\n",
    "    mlflow.sklearn.log_model(rf_classifier,\"Random Forest 1\")\n",
    "\n",
    "    mlflow.end_run()"
   ]
  },
  {
   "cell_type": "markdown",
   "metadata": {},
   "source": [
    "### Random Forest 2"
   ]
  },
  {
   "cell_type": "code",
   "execution_count": 29,
   "metadata": {},
   "outputs": [
    {
     "name": "stderr",
     "output_type": "stream",
     "text": [
      "2024/12/19 23:51:15 WARNING mlflow.models.model: Model logged without a signature and input example. Please set `input_example` parameter when logging the model to auto infer the model signature.\n"
     ]
    },
    {
     "name": "stdout",
     "output_type": "stream",
     "text": [
      "🏃 View run persistent-grub-684 at: http://127.0.0.1:8080/#/experiments/944934590087954932/runs/e8bee5a630514ee699bcade74bc01da3\n",
      "🧪 View experiment at: http://127.0.0.1:8080/#/experiments/944934590087954932\n"
     ]
    }
   ],
   "source": [
    "with mlflow.start_run():\n",
    "\n",
    "    #Random Forest 2\n",
    "    rf_classifier = RandomForestClassifier(n_estimators=50, random_state=42, min_samples_split=10)\n",
    "    rf_classifier.fit(X_train, y_train)\n",
    "    y_pred = rf_classifier.predict(X_test)\n",
    "    accuracy = accuracy_score(y_test, y_pred)\n",
    "    #Registramos Hiper-parametros\n",
    "    params_rf2=dict(n_estimators=50, random_state=42, min_samples_split=10)\n",
    "    mlflow.log_params(params_rf2)\n",
    "    #Registramos métricas\n",
    "    mlflow.log_metric('accuracy_score',accuracy)\n",
    "    #Registramos  modelo entrenado\n",
    "    mlflow.sklearn.log_model(rf_classifier,\"Random Forest 2\")\n",
    "\n",
    "    mlflow.end_run()"
   ]
  },
  {
   "cell_type": "markdown",
   "metadata": {},
   "source": [
    "Guardamos modelo para produccion"
   ]
  },
  {
   "cell_type": "code",
   "execution_count": 186,
   "metadata": {},
   "outputs": [],
   "source": [
    "with open('../models/random_forest_v1.pkl','wb') as f:\n",
    "    pickle.dump(model,f)"
   ]
  },
  {
   "cell_type": "markdown",
   "metadata": {},
   "source": [
    "### Random Forest 3"
   ]
  },
  {
   "cell_type": "code",
   "execution_count": 30,
   "metadata": {},
   "outputs": [
    {
     "name": "stderr",
     "output_type": "stream",
     "text": [
      "2024/12/19 23:53:53 WARNING mlflow.models.model: Model logged without a signature and input example. Please set `input_example` parameter when logging the model to auto infer the model signature.\n"
     ]
    },
    {
     "name": "stdout",
     "output_type": "stream",
     "text": [
      "🏃 View run unruly-loon-350 at: http://127.0.0.1:8080/#/experiments/944934590087954932/runs/56b8d5f74f0a4e0c811c6d97a41be4ab\n",
      "🧪 View experiment at: http://127.0.0.1:8080/#/experiments/944934590087954932\n"
     ]
    }
   ],
   "source": [
    "with mlflow.start_run():\n",
    "    \n",
    "    #Random Forest 3\n",
    "    rf_classifier = RandomForestClassifier(n_estimators=100, random_state=42, min_samples_split=20)\n",
    "    rf_classifier.fit(X_train, y_train)\n",
    "    y_pred = rf_classifier.predict(X_test)\n",
    "    accuracy = accuracy_score(y_test, y_pred)\n",
    "    #Registramos Hiper-parametros\n",
    "    params_rf3=dict(n_estimators=100, random_state=42, min_samples_split=20)\n",
    "    mlflow.log_params(params_rf3)\n",
    "    #Registramos métricas\n",
    "    mlflow.log_metric('accuracy_score',accuracy)\n",
    "    #Registramos  modelo entrenado\n",
    "    mlflow.sklearn.log_model(rf_classifier,\"Random Forest 3\")\n",
    "\n",
    "    mlflow.end_run()"
   ]
  },
  {
   "cell_type": "markdown",
   "metadata": {},
   "source": [
    "# Modelo 3"
   ]
  },
  {
   "cell_type": "markdown",
   "metadata": {},
   "source": [
    "### Decision Tree 1"
   ]
  },
  {
   "cell_type": "code",
   "execution_count": 31,
   "metadata": {},
   "outputs": [
    {
     "name": "stderr",
     "output_type": "stream",
     "text": [
      "2024/12/19 23:56:41 WARNING mlflow.models.model: Model logged without a signature and input example. Please set `input_example` parameter when logging the model to auto infer the model signature.\n"
     ]
    },
    {
     "name": "stdout",
     "output_type": "stream",
     "text": [
      "🏃 View run righteous-eel-639 at: http://127.0.0.1:8080/#/experiments/944934590087954932/runs/98fba37e0c3f4dbab966d8a6f9e3651b\n",
      "🧪 View experiment at: http://127.0.0.1:8080/#/experiments/944934590087954932\n"
     ]
    }
   ],
   "source": [
    "with mlflow.start_run():\n",
    "\n",
    "    #Decision Tree 1\n",
    "    dt_classifier = DecisionTreeClassifier()\n",
    "    dt_classifier.fit(X_train, y_train)\n",
    "    y_pred = dt_classifier.predict(X_test)\n",
    "    accuracy = accuracy_score(y_test, y_pred)\n",
    "    #Registramos Hiper-parametros\n",
    "    params_dt1=dict(criterion='gini',max_depth='ninguno')\n",
    "    mlflow.log_params(params_dt1)\n",
    "    #Registramos métricas\n",
    "    mlflow.log_metric('accuracy_score',accuracy)\n",
    "    #Registramos  modelo entrenado\n",
    "    mlflow.sklearn.log_model(dt_classifier,\"Decision Tree 1\")\n",
    "\n",
    "    mlflow.end_run()"
   ]
  },
  {
   "cell_type": "markdown",
   "metadata": {},
   "source": [
    "### Decision Tree 2"
   ]
  },
  {
   "cell_type": "code",
   "execution_count": 32,
   "metadata": {},
   "outputs": [
    {
     "name": "stderr",
     "output_type": "stream",
     "text": [
      "2024/12/19 23:56:54 WARNING mlflow.models.model: Model logged without a signature and input example. Please set `input_example` parameter when logging the model to auto infer the model signature.\n"
     ]
    },
    {
     "name": "stdout",
     "output_type": "stream",
     "text": [
      "🏃 View run colorful-worm-253 at: http://127.0.0.1:8080/#/experiments/944934590087954932/runs/95a816eb685f43559e8e56a0a51a2cf3\n",
      "🧪 View experiment at: http://127.0.0.1:8080/#/experiments/944934590087954932\n"
     ]
    }
   ],
   "source": [
    "with mlflow.start_run():   \n",
    "    #Decision Tree 2\n",
    "    dt_classifier = DecisionTreeClassifier(criterion='gini',max_depth=2)\n",
    "    dt_classifier.fit(X_train, y_train)\n",
    "    y_pred = dt_classifier.predict(X_test)\n",
    "    accuracy = accuracy_score(y_test, y_pred)\n",
    "    #Registramos Hiper-parametros\n",
    "    params_dt2=dict(criterion='gini',max_depth=2)\n",
    "    mlflow.log_params(params_dt2)\n",
    "    #Registramos métricas\n",
    "    mlflow.log_metric('accuracy_score',accuracy)\n",
    "    #Registramos  modelo entrenado\n",
    "    mlflow.sklearn.log_model(dt_classifier,\"Decision Tree 2\")\n",
    "\n",
    "    mlflow.end_run()"
   ]
  },
  {
   "cell_type": "markdown",
   "metadata": {},
   "source": [
    "### Decision Tree 3"
   ]
  },
  {
   "cell_type": "code",
   "execution_count": 33,
   "metadata": {},
   "outputs": [
    {
     "name": "stderr",
     "output_type": "stream",
     "text": [
      "2024/12/19 23:57:07 WARNING mlflow.models.model: Model logged without a signature and input example. Please set `input_example` parameter when logging the model to auto infer the model signature.\n"
     ]
    },
    {
     "name": "stdout",
     "output_type": "stream",
     "text": [
      "🏃 View run likeable-mule-557 at: http://127.0.0.1:8080/#/experiments/944934590087954932/runs/0a3da77e259e405d8969be2f5beb4856\n",
      "🧪 View experiment at: http://127.0.0.1:8080/#/experiments/944934590087954932\n"
     ]
    }
   ],
   "source": [
    "with mlflow.start_run():    \n",
    "    #Decision Tree 3\n",
    "    dt_classifier = DecisionTreeClassifier(criterion='gini',max_depth=5, min_samples_split=5)\n",
    "    dt_classifier.fit(X_train, y_train)\n",
    "    y_pred = dt_classifier.predict(X_test)\n",
    "    accuracy = accuracy_score(y_test, y_pred)\n",
    "    #Registramos Hiper-parametros\n",
    "    params_dt3=dict(criterion='gini',max_depth=5, min_samples_split=5)\n",
    "    mlflow.log_params(params_dt3)\n",
    "    #Registramos métricas\n",
    "    mlflow.log_metric('accuracy_score',accuracy)\n",
    "    #Registramos  modelo entrenado\n",
    "    mlflow.sklearn.log_model(dt_classifier,\"Decision Tree 3\")\n",
    "    \n",
    "    mlflow.end_run()"
   ]
  },
  {
   "cell_type": "markdown",
   "metadata": {},
   "source": [
    "# Modelo 4"
   ]
  },
  {
   "cell_type": "markdown",
   "metadata": {},
   "source": [
    "### Modelo de regresion 1"
   ]
  },
  {
   "cell_type": "code",
   "execution_count": 34,
   "metadata": {},
   "outputs": [
    {
     "name": "stderr",
     "output_type": "stream",
     "text": [
      "c:\\Users\\HP\\anaconda3\\Lib\\site-packages\\sklearn\\linear_model\\_logistic.py:469: ConvergenceWarning: lbfgs failed to converge (status=1):\n",
      "STOP: TOTAL NO. of ITERATIONS REACHED LIMIT.\n",
      "\n",
      "Increase the number of iterations (max_iter) or scale the data as shown in:\n",
      "    https://scikit-learn.org/stable/modules/preprocessing.html\n",
      "Please also refer to the documentation for alternative solver options:\n",
      "    https://scikit-learn.org/stable/modules/linear_model.html#logistic-regression\n",
      "  n_iter_i = _check_optimize_result(\n",
      "2024/12/20 00:01:28 WARNING mlflow.models.model: Model logged without a signature and input example. Please set `input_example` parameter when logging the model to auto infer the model signature.\n"
     ]
    },
    {
     "name": "stdout",
     "output_type": "stream",
     "text": [
      "🏃 View run masked-squirrel-246 at: http://127.0.0.1:8080/#/experiments/944934590087954932/runs/fd3b414e3f1644cf8191656b9789f8da\n",
      "🧪 View experiment at: http://127.0.0.1:8080/#/experiments/944934590087954932\n"
     ]
    }
   ],
   "source": [
    "with mlflow.start_run():\n",
    " \n",
    "    #Logistic Regression 1\n",
    "    lr_classifier = LogisticRegression()\n",
    "    lr_classifier.fit(X_train, y_train)\n",
    "    y_pred = lr_classifier.predict(X_test)\n",
    "    accuracy = accuracy_score(y_test, y_pred)\n",
    "    #Registramos Hiper-parametros\n",
    "    params_lr1=dict(C=1.0,solver='liblinear')\n",
    "    mlflow.log_params(params_lr1)\n",
    "    #Registramos métricas\n",
    "    mlflow.log_metric('accuracy_score',accuracy)\n",
    "    #Registramos  modelo entrenado\n",
    "    mlflow.sklearn.log_model(lr_classifier,\"Logistic Regression 1\")\n",
    "\n",
    "    mlflow.end_run()"
   ]
  },
  {
   "cell_type": "markdown",
   "metadata": {},
   "source": [
    "### Modelo de regresion 2"
   ]
  },
  {
   "cell_type": "code",
   "execution_count": 35,
   "metadata": {},
   "outputs": [
    {
     "name": "stderr",
     "output_type": "stream",
     "text": [
      "c:\\Users\\HP\\anaconda3\\Lib\\site-packages\\sklearn\\linear_model\\_sag.py:349: ConvergenceWarning: The max_iter was reached which means the coef_ did not converge\n",
      "  warnings.warn(\n",
      "2024/12/20 00:01:48 WARNING mlflow.models.model: Model logged without a signature and input example. Please set `input_example` parameter when logging the model to auto infer the model signature.\n"
     ]
    },
    {
     "name": "stdout",
     "output_type": "stream",
     "text": [
      "🏃 View run learned-tern-38 at: http://127.0.0.1:8080/#/experiments/944934590087954932/runs/2e3e42db0e7d43a1b61524462e333f42\n",
      "🧪 View experiment at: http://127.0.0.1:8080/#/experiments/944934590087954932\n"
     ]
    }
   ],
   "source": [
    "with mlflow.start_run(): \n",
    "    #Logistic Regression 2\n",
    "    lr_classifier = LogisticRegression(C=0.01,solver='saga')\n",
    "    lr_classifier.fit(X_train, y_train)\n",
    "    y_pred = lr_classifier.predict(X_test)\n",
    "    accuracy = accuracy_score(y_test, y_pred)\n",
    "    #Registramos Hiper-parametros\n",
    "    params_lr2=dict(C=0.01,solver='saga')\n",
    "    mlflow.log_params(params_lr2)\n",
    "    #Registramos métricas\n",
    "    mlflow.log_metric('accuracy_score',accuracy)\n",
    "    #Registramos  modelo entrenado\n",
    "    mlflow.sklearn.log_model(lr_classifier,\"Logistic Regression 2\")\n",
    "\n",
    "    mlflow.end_run()"
   ]
  },
  {
   "cell_type": "markdown",
   "metadata": {},
   "source": [
    "### Modelo de regresion 3"
   ]
  },
  {
   "cell_type": "code",
   "execution_count": 36,
   "metadata": {},
   "outputs": [
    {
     "name": "stderr",
     "output_type": "stream",
     "text": [
      "2024/12/20 00:02:07 WARNING mlflow.models.model: Model logged without a signature and input example. Please set `input_example` parameter when logging the model to auto infer the model signature.\n"
     ]
    },
    {
     "name": "stdout",
     "output_type": "stream",
     "text": [
      "🏃 View run placid-squirrel-725 at: http://127.0.0.1:8080/#/experiments/944934590087954932/runs/193c123977c445e8af2e16553c0fe463\n",
      "🧪 View experiment at: http://127.0.0.1:8080/#/experiments/944934590087954932\n"
     ]
    }
   ],
   "source": [
    "with mlflow.start_run():  \n",
    "    #Logistic Regression 3\n",
    "    lr_classifier = LogisticRegression(C=10,solver='liblinear',penalty='l2')\n",
    "    lr_classifier.fit(X_train, y_train)\n",
    "    y_pred = lr_classifier.predict(X_test)\n",
    "    accuracy = accuracy_score(y_test, y_pred)\n",
    "    #Registramos Hiper-parametros\n",
    "    params_lr3=dict(C=10,solver='liblinear',penalty='l2')\n",
    "    mlflow.log_params(params_lr3)\n",
    "    #Registramos métricas\n",
    "    mlflow.log_metric('accuracy_score',accuracy)\n",
    "    #Registramos  modelo entrenado\n",
    "    mlflow.sklearn.log_model(lr_classifier,\"Logistic Regression 3\")\n",
    "    \n",
    "    mlflow.end_run()"
   ]
  },
  {
   "cell_type": "markdown",
   "metadata": {},
   "source": [
    "# Modelo 5"
   ]
  },
  {
   "cell_type": "markdown",
   "metadata": {},
   "source": [
    "### Modelo de red reuronal 1"
   ]
  },
  {
   "cell_type": "code",
   "execution_count": 37,
   "metadata": {},
   "outputs": [
    {
     "name": "stderr",
     "output_type": "stream",
     "text": [
      "c:\\Users\\HP\\anaconda3\\Lib\\site-packages\\keras\\src\\layers\\core\\dense.py:87: UserWarning: Do not pass an `input_shape`/`input_dim` argument to a layer. When using Sequential models, prefer using an `Input(shape)` object as the first layer in the model instead.\n",
      "  super().__init__(activity_regularizer=activity_regularizer, **kwargs)\n"
     ]
    },
    {
     "name": "stdout",
     "output_type": "stream",
     "text": [
      "Epoch 1/10\n",
      "\u001b[1m2297/2297\u001b[0m \u001b[32m━━━━━━━━━━━━━━━━━━━━\u001b[0m\u001b[37m\u001b[0m \u001b[1m9s\u001b[0m 3ms/step - accuracy: 0.8948 - loss: 2.3916 - val_accuracy: 0.6849 - val_loss: 0.6936\n",
      "Epoch 2/10\n",
      "\u001b[1m2297/2297\u001b[0m \u001b[32m━━━━━━━━━━━━━━━━━━━━\u001b[0m\u001b[37m\u001b[0m \u001b[1m6s\u001b[0m 3ms/step - accuracy: 0.8921 - loss: 1.5198 - val_accuracy: 0.9250 - val_loss: 0.5374\n",
      "Epoch 3/10\n",
      "\u001b[1m2297/2297\u001b[0m \u001b[32m━━━━━━━━━━━━━━━━━━━━\u001b[0m\u001b[37m\u001b[0m \u001b[1m6s\u001b[0m 3ms/step - accuracy: 0.8869 - loss: 1.8850 - val_accuracy: 0.9268 - val_loss: 0.7360\n",
      "Epoch 4/10\n",
      "\u001b[1m2297/2297\u001b[0m \u001b[32m━━━━━━━━━━━━━━━━━━━━\u001b[0m\u001b[37m\u001b[0m \u001b[1m6s\u001b[0m 3ms/step - accuracy: 0.8898 - loss: 1.5183 - val_accuracy: 0.8757 - val_loss: 0.3591\n",
      "Epoch 5/10\n",
      "\u001b[1m2297/2297\u001b[0m \u001b[32m━━━━━━━━━━━━━━━━━━━━\u001b[0m\u001b[37m\u001b[0m \u001b[1m6s\u001b[0m 3ms/step - accuracy: 0.8907 - loss: 1.3289 - val_accuracy: 0.9342 - val_loss: 3.9543\n",
      "Epoch 6/10\n",
      "\u001b[1m2297/2297\u001b[0m \u001b[32m━━━━━━━━━━━━━━━━━━━━\u001b[0m\u001b[37m\u001b[0m \u001b[1m6s\u001b[0m 3ms/step - accuracy: 0.8895 - loss: 1.4216 - val_accuracy: 0.9342 - val_loss: 2.9181\n",
      "Epoch 7/10\n",
      "\u001b[1m2297/2297\u001b[0m \u001b[32m━━━━━━━━━━━━━━━━━━━━\u001b[0m\u001b[37m\u001b[0m \u001b[1m6s\u001b[0m 3ms/step - accuracy: 0.8913 - loss: 1.5632 - val_accuracy: 0.9342 - val_loss: 2.2947\n",
      "Epoch 8/10\n",
      "\u001b[1m2297/2297\u001b[0m \u001b[32m━━━━━━━━━━━━━━━━━━━━\u001b[0m\u001b[37m\u001b[0m \u001b[1m6s\u001b[0m 3ms/step - accuracy: 0.8948 - loss: 1.2792 - val_accuracy: 0.9272 - val_loss: 0.5429\n",
      "Epoch 9/10\n",
      "\u001b[1m2297/2297\u001b[0m \u001b[32m━━━━━━━━━━━━━━━━━━━━\u001b[0m\u001b[37m\u001b[0m \u001b[1m7s\u001b[0m 3ms/step - accuracy: 0.8974 - loss: 1.0908 - val_accuracy: 0.7649 - val_loss: 0.6093\n",
      "Epoch 10/10\n",
      "\u001b[1m2297/2297\u001b[0m \u001b[32m━━━━━━━━━━━━━━━━━━━━\u001b[0m\u001b[37m\u001b[0m \u001b[1m6s\u001b[0m 3ms/step - accuracy: 0.8935 - loss: 1.2616 - val_accuracy: 0.9343 - val_loss: 2.0168\n",
      "\u001b[1m985/985\u001b[0m \u001b[32m━━━━━━━━━━━━━━━━━━━━\u001b[0m\u001b[37m\u001b[0m \u001b[1m2s\u001b[0m 2ms/step\n"
     ]
    },
    {
     "name": "stderr",
     "output_type": "stream",
     "text": [
      "2024/12/20 00:07:43 WARNING mlflow.models.model: Model logged without a signature and input example. Please set `input_example` parameter when logging the model to auto infer the model signature.\n"
     ]
    },
    {
     "name": "stdout",
     "output_type": "stream",
     "text": [
      "🏃 View run traveling-snail-912 at: http://127.0.0.1:8080/#/experiments/944934590087954932/runs/77d91b4b76a643898117b3da9bc2ccd9\n",
      "🧪 View experiment at: http://127.0.0.1:8080/#/experiments/944934590087954932\n"
     ]
    }
   ],
   "source": [
    "with mlflow.start_run():\n",
    "    #Neural Network 1\n",
    "    rn_classifier = Sequential([\n",
    "    Dense(64, activation='relu', input_shape=(10,)),  # Capa oculta con 64 neuronas\n",
    "    Dense(1, activation='sigmoid') \n",
    "    ])\n",
    "    rn_classifier.compile(optimizer='adam',\n",
    "                loss='binary_crossentropy', \n",
    "\n",
    "                metrics=['accuracy'])\n",
    "    rn_classifier.fit(X_train, y_train, epochs=10, validation_data=(X_test, y_test))\n",
    "    y_pred_rn = rn_classifier.predict(X_test)\n",
    "    y_pred_rn = (y_pred_rn > 0.5).astype(int)\n",
    "    acc_rn=accuracy_score(y_test,y_pred_rn)\n",
    "    #Registramos Hiper-parametros\n",
    "    params_rn1=dict(optimizer='adam',loss='binary_crossentropy')\n",
    "    mlflow.log_params(params_rn1)\n",
    "    mlflow.log_param('1ra capa',64)\n",
    "    #Registramos métricas\n",
    "    mlflow.log_metric('accuracy_score',acc_rn)\n",
    "    #Registramos  modelo entrenado\n",
    "    mlflow.sklearn.log_model(rn_classifier,\"Neural Network 1\")\n",
    "\n",
    "    mlflow.end_run() "
   ]
  },
  {
   "cell_type": "markdown",
   "metadata": {},
   "source": [
    "### Modelo de red reuronal 2"
   ]
  },
  {
   "cell_type": "code",
   "execution_count": 38,
   "metadata": {},
   "outputs": [
    {
     "name": "stdout",
     "output_type": "stream",
     "text": [
      "Epoch 1/10\n"
     ]
    },
    {
     "name": "stderr",
     "output_type": "stream",
     "text": [
      "c:\\Users\\HP\\anaconda3\\Lib\\site-packages\\keras\\src\\layers\\core\\dense.py:87: UserWarning: Do not pass an `input_shape`/`input_dim` argument to a layer. When using Sequential models, prefer using an `Input(shape)` object as the first layer in the model instead.\n",
      "  super().__init__(activity_regularizer=activity_regularizer, **kwargs)\n"
     ]
    },
    {
     "name": "stdout",
     "output_type": "stream",
     "text": [
      "\u001b[1m2297/2297\u001b[0m \u001b[32m━━━━━━━━━━━━━━━━━━━━\u001b[0m\u001b[37m\u001b[0m \u001b[1m7s\u001b[0m 3ms/step - accuracy: 0.9329 - loss: 0.5247 - val_accuracy: 0.9338 - val_loss: 0.2887\n",
      "Epoch 2/10\n",
      "\u001b[1m2297/2297\u001b[0m \u001b[32m━━━━━━━━━━━━━━━━━━━━\u001b[0m\u001b[37m\u001b[0m \u001b[1m6s\u001b[0m 3ms/step - accuracy: 0.9328 - loss: 0.2705 - val_accuracy: 0.9341 - val_loss: 0.2459\n",
      "Epoch 3/10\n",
      "\u001b[1m2297/2297\u001b[0m \u001b[32m━━━━━━━━━━━━━━━━━━━━\u001b[0m\u001b[37m\u001b[0m \u001b[1m6s\u001b[0m 3ms/step - accuracy: 0.9332 - loss: 0.2470 - val_accuracy: 0.9341 - val_loss: 0.2431\n",
      "Epoch 4/10\n",
      "\u001b[1m2297/2297\u001b[0m \u001b[32m━━━━━━━━━━━━━━━━━━━━\u001b[0m\u001b[37m\u001b[0m \u001b[1m6s\u001b[0m 3ms/step - accuracy: 0.9341 - loss: 0.2427 - val_accuracy: 0.9342 - val_loss: 0.2424\n",
      "Epoch 5/10\n",
      "\u001b[1m2297/2297\u001b[0m \u001b[32m━━━━━━━━━━━━━━━━━━━━\u001b[0m\u001b[37m\u001b[0m \u001b[1m7s\u001b[0m 3ms/step - accuracy: 0.9326 - loss: 0.2465 - val_accuracy: 0.9342 - val_loss: 0.2424\n",
      "Epoch 6/10\n",
      "\u001b[1m2297/2297\u001b[0m \u001b[32m━━━━━━━━━━━━━━━━━━━━\u001b[0m\u001b[37m\u001b[0m \u001b[1m6s\u001b[0m 3ms/step - accuracy: 0.9347 - loss: 0.2410 - val_accuracy: 0.9342 - val_loss: 0.2425\n",
      "Epoch 7/10\n",
      "\u001b[1m2297/2297\u001b[0m \u001b[32m━━━━━━━━━━━━━━━━━━━━\u001b[0m\u001b[37m\u001b[0m \u001b[1m6s\u001b[0m 3ms/step - accuracy: 0.9349 - loss: 0.2407 - val_accuracy: 0.9342 - val_loss: 0.2423\n",
      "Epoch 8/10\n",
      "\u001b[1m2297/2297\u001b[0m \u001b[32m━━━━━━━━━━━━━━━━━━━━\u001b[0m\u001b[37m\u001b[0m \u001b[1m6s\u001b[0m 3ms/step - accuracy: 0.9332 - loss: 0.2450 - val_accuracy: 0.9342 - val_loss: 0.2427\n",
      "Epoch 9/10\n",
      "\u001b[1m2297/2297\u001b[0m \u001b[32m━━━━━━━━━━━━━━━━━━━━\u001b[0m\u001b[37m\u001b[0m \u001b[1m6s\u001b[0m 3ms/step - accuracy: 0.9341 - loss: 0.2425 - val_accuracy: 0.9342 - val_loss: 0.2422\n",
      "Epoch 10/10\n",
      "\u001b[1m2297/2297\u001b[0m \u001b[32m━━━━━━━━━━━━━━━━━━━━\u001b[0m\u001b[37m\u001b[0m \u001b[1m6s\u001b[0m 3ms/step - accuracy: 0.9314 - loss: 0.2497 - val_accuracy: 0.9342 - val_loss: 0.2424\n",
      "\u001b[1m985/985\u001b[0m \u001b[32m━━━━━━━━━━━━━━━━━━━━\u001b[0m\u001b[37m\u001b[0m \u001b[1m2s\u001b[0m 2ms/step\n"
     ]
    },
    {
     "name": "stderr",
     "output_type": "stream",
     "text": [
      "2024/12/20 00:09:17 WARNING mlflow.models.model: Model logged without a signature and input example. Please set `input_example` parameter when logging the model to auto infer the model signature.\n"
     ]
    },
    {
     "name": "stdout",
     "output_type": "stream",
     "text": [
      "🏃 View run silent-dog-676 at: http://127.0.0.1:8080/#/experiments/944934590087954932/runs/20a45cfa2af841ce93b2559b177ada69\n",
      "🧪 View experiment at: http://127.0.0.1:8080/#/experiments/944934590087954932\n"
     ]
    }
   ],
   "source": [
    "with mlflow.start_run():\n",
    "    #Neural Network 2\n",
    "    rn_classifier = Sequential([\n",
    "    Dense(5, activation='relu', input_shape=(10,)),  # Capa oculta con 5 neuronas\n",
    "    Dense(1, activation='sigmoid') \n",
    "    ])\n",
    "    rn_classifier.compile(optimizer='adam',\n",
    "                loss='binary_crossentropy', \n",
    "\n",
    "                metrics=['accuracy'])\n",
    "\n",
    "    rn_classifier.fit(X_train, y_train, epochs=10, validation_data=(X_test, y_test)) \n",
    "    y_pred_rn = rn_classifier.predict(X_test)\n",
    "    y_pred_rn = (y_pred_rn > 0.5).astype(int)\n",
    "    acc_rn=accuracy_score(y_test,y_pred_rn)\n",
    "    #Registramos Hiper-parametros\n",
    "    params_rn2=dict(optimizer='adam',loss='binary_crossentropy')\n",
    "    mlflow.log_params(params_rn2)\n",
    "    mlflow.log_param('1ra capa',5)\n",
    "    #Registramos métricas\n",
    "    mlflow.log_metric('accuracy_score',acc_rn)\n",
    "    #Registramos  modelo entrenado\n",
    "    mlflow.sklearn.log_model(rn_classifier,\"Neural Network 2\")\n",
    "\n",
    "    mlflow.end_run()\n"
   ]
  },
  {
   "cell_type": "markdown",
   "metadata": {},
   "source": [
    "### Modelo de red reuronal 3"
   ]
  },
  {
   "cell_type": "code",
   "execution_count": 39,
   "metadata": {},
   "outputs": [
    {
     "name": "stdout",
     "output_type": "stream",
     "text": [
      "Epoch 1/10\n"
     ]
    },
    {
     "name": "stderr",
     "output_type": "stream",
     "text": [
      "c:\\Users\\HP\\anaconda3\\Lib\\site-packages\\keras\\src\\layers\\core\\dense.py:87: UserWarning: Do not pass an `input_shape`/`input_dim` argument to a layer. When using Sequential models, prefer using an `Input(shape)` object as the first layer in the model instead.\n",
      "  super().__init__(activity_regularizer=activity_regularizer, **kwargs)\n"
     ]
    },
    {
     "name": "stdout",
     "output_type": "stream",
     "text": [
      "\u001b[1m2297/2297\u001b[0m \u001b[32m━━━━━━━━━━━━━━━━━━━━\u001b[0m\u001b[37m\u001b[0m \u001b[1m8s\u001b[0m 3ms/step - accuracy: 0.9272 - loss: 46.1424 - val_accuracy: 0.9343 - val_loss: 0.2927\n",
      "Epoch 2/10\n",
      "\u001b[1m2297/2297\u001b[0m \u001b[32m━━━━━━━━━━━━━━━━━━━━\u001b[0m\u001b[37m\u001b[0m \u001b[1m6s\u001b[0m 3ms/step - accuracy: 0.9265 - loss: 0.2970 - val_accuracy: 0.9341 - val_loss: 0.2297\n",
      "Epoch 3/10\n",
      "\u001b[1m2297/2297\u001b[0m \u001b[32m━━━━━━━━━━━━━━━━━━━━\u001b[0m\u001b[37m\u001b[0m \u001b[1m6s\u001b[0m 2ms/step - accuracy: 0.9264 - loss: 0.2905 - val_accuracy: 0.9334 - val_loss: 0.2233\n",
      "Epoch 4/10\n",
      "\u001b[1m2297/2297\u001b[0m \u001b[32m━━━━━━━━━━━━━━━━━━━━\u001b[0m\u001b[37m\u001b[0m \u001b[1m6s\u001b[0m 3ms/step - accuracy: 0.9255 - loss: 0.2889 - val_accuracy: 0.9342 - val_loss: 0.2967\n",
      "Epoch 5/10\n",
      "\u001b[1m2297/2297\u001b[0m \u001b[32m━━━━━━━━━━━━━━━━━━━━\u001b[0m\u001b[37m\u001b[0m \u001b[1m6s\u001b[0m 3ms/step - accuracy: 0.9272 - loss: 0.2745 - val_accuracy: 0.8573 - val_loss: 0.3723\n",
      "Epoch 6/10\n",
      "\u001b[1m2297/2297\u001b[0m \u001b[32m━━━━━━━━━━━━━━━━━━━━\u001b[0m\u001b[37m\u001b[0m \u001b[1m7s\u001b[0m 3ms/step - accuracy: 0.9254 - loss: 0.2907 - val_accuracy: 0.9341 - val_loss: 0.2811\n",
      "Epoch 7/10\n",
      "\u001b[1m2297/2297\u001b[0m \u001b[32m━━━━━━━━━━━━━━━━━━━━\u001b[0m\u001b[37m\u001b[0m \u001b[1m6s\u001b[0m 3ms/step - accuracy: 0.9265 - loss: 0.2730 - val_accuracy: 0.8590 - val_loss: 0.3632\n",
      "Epoch 8/10\n",
      "\u001b[1m2297/2297\u001b[0m \u001b[32m━━━━━━━━━━━━━━━━━━━━\u001b[0m\u001b[37m\u001b[0m \u001b[1m6s\u001b[0m 3ms/step - accuracy: 0.9259 - loss: 0.2785 - val_accuracy: 0.9339 - val_loss: 0.2554\n",
      "Epoch 9/10\n",
      "\u001b[1m2297/2297\u001b[0m \u001b[32m━━━━━━━━━━━━━━━━━━━━\u001b[0m\u001b[37m\u001b[0m \u001b[1m6s\u001b[0m 3ms/step - accuracy: 0.9255 - loss: 0.2699 - val_accuracy: 0.9342 - val_loss: 0.2148\n",
      "Epoch 10/10\n",
      "\u001b[1m2297/2297\u001b[0m \u001b[32m━━━━━━━━━━━━━━━━━━━━\u001b[0m\u001b[37m\u001b[0m \u001b[1m6s\u001b[0m 3ms/step - accuracy: 0.9254 - loss: 0.2743 - val_accuracy: 0.9336 - val_loss: 0.2240\n",
      "\u001b[1m985/985\u001b[0m \u001b[32m━━━━━━━━━━━━━━━━━━━━\u001b[0m\u001b[37m\u001b[0m \u001b[1m2s\u001b[0m 2ms/step\n"
     ]
    },
    {
     "name": "stderr",
     "output_type": "stream",
     "text": [
      "2024/12/20 00:10:50 WARNING mlflow.models.model: Model logged without a signature and input example. Please set `input_example` parameter when logging the model to auto infer the model signature.\n"
     ]
    },
    {
     "name": "stdout",
     "output_type": "stream",
     "text": [
      "🏃 View run delightful-robin-556 at: http://127.0.0.1:8080/#/experiments/944934590087954932/runs/49e3e284ed9e4ed69d6d72814311e07b\n",
      "🧪 View experiment at: http://127.0.0.1:8080/#/experiments/944934590087954932\n"
     ]
    }
   ],
   "source": [
    "with mlflow.start_run():\n",
    "    #Neural Network 3\n",
    "    rn_classifier = Sequential([\n",
    "\n",
    "    Dense(10, activation='relu', input_shape=(10,)),  # Capa oculta con 5 neuronas\n",
    "    Dense(1, activation='sigmoid') \n",
    "    ])\n",
    "    rn_classifier.compile(optimizer='adam',\n",
    "                loss='binary_crossentropy', \n",
    "\n",
    "                metrics=['accuracy'])\n",
    "    rn_classifier.fit(X_train, y_train, epochs=10, validation_data=(X_test, y_test)) \n",
    "    y_pred_rn = rn_classifier.predict(X_test)\n",
    "    y_pred_rn = (y_pred_rn > 0.5).astype(int)\n",
    "    acc_rn=accuracy_score(y_test,y_pred_rn)\n",
    "    #Registramos Hiper-parametros\n",
    "    params_rn3=dict(optimizer='adam',loss='binary_crossentropy')\n",
    "    mlflow.log_params(params_rn2)\n",
    "    mlflow.log_param('1ra capa',10)\n",
    "    #Registramos métricas\n",
    "    mlflow.log_metric('accuracy_score',acc_rn)\n",
    "    #Registramos  modelo entrenado\n",
    "    mlflow.sklearn.log_model(rn_classifier,\"Neural Network 3\")\n",
    "    \n",
    "    mlflow.end_run()"
   ]
  }
 ],
 "metadata": {
  "kernelspec": {
   "display_name": "base",
   "language": "python",
   "name": "python3"
  },
  "language_info": {
   "codemirror_mode": {
    "name": "ipython",
    "version": 3
   },
   "file_extension": ".py",
   "mimetype": "text/x-python",
   "name": "python",
   "nbconvert_exporter": "python",
   "pygments_lexer": "ipython3",
   "version": "3.11.5"
  }
 },
 "nbformat": 4,
 "nbformat_minor": 2
}
